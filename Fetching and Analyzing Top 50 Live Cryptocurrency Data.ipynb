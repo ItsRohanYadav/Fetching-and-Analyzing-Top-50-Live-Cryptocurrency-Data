{
 "cells": [
  {
   "cell_type": "code",
   "execution_count": 1,
   "metadata": {},
   "outputs": [],
   "source": [
    "import requests\n",
    "import pandas as pd\n",
    "import time\n",
    "from openpyxl import load_workbook"
   ]
  },
  {
   "cell_type": "code",
   "execution_count": 2,
   "metadata": {},
   "outputs": [],
   "source": [
    "# Fetch cryptocurrency data\n",
    "def fetch_crypto_data():\n",
    "    url=\"https://api.coingecko.com/api/v3/coins/markets\"\n",
    "    params = {\n",
    "        \"vs_currency\":\"usd\",\n",
    "        \"order\":\"market_cap_desc\",\n",
    "        \"per_page\":50,\n",
    "        \"page\":1,\n",
    "        \"sparkline\":False\n",
    "    }\n",
    "    response=requests.get(url, params=params)\n",
    "    if response.status_code==200:\n",
    "        return response.json()\n",
    "    else:\n",
    "        print(\"Error fetching data:\", response.status_code)\n",
    "        return None"
   ]
  },
  {
   "cell_type": "code",
   "execution_count": 3,
   "metadata": {},
   "outputs": [],
   "source": [
    "# Analyze data\n",
    "def analyze_data(data):\n",
    "    df=pd.DataFrame(data)\n",
    "    # Select relevant columns\n",
    "    df=df[['name', 'symbol', 'current_price', 'market_cap', 'total_volume', 'price_change_percentage_24h']]\n",
    "    # Top 5 cryptos by market cap\n",
    "    top_5=df.nlargest(5, 'market_cap')\n",
    "    # Average price of top 50\n",
    "    avg_price=df['current_price'].mean()\n",
    "    # Highest & lowest 24h percentage change\n",
    "    highest_24h=df.nlargest(1, 'price_change_percentage_24h')\n",
    "    lowest_24h=df.nsmallest(1, 'price_change_percentage_24h')\n",
    "    print(\"\\n🔹 **Analysis Report** 🔹\")\n",
    "    print(f\"Top 5 Cryptos by Market Cap:\\n{top_5[['name', 'market_cap']]}\")\n",
    "    print(f\"\\nAverage Price of Top 50: ${avg_price:.2f}\")\n",
    "    print(f\"\\n🔺 Highest 24h Change: {highest_24h['name'].values[0]} ({highest_24h['price_change_percentage_24h'].values[0]:.2f}%)\")\n",
    "    print(f\"🔻 Lowest 24h Change: {lowest_24h['name'].values[0]} ({lowest_24h['price_change_percentage_24h'].values[0]:.2f}%)\")\n",
    "    \n",
    "    return df"
   ]
  },
  {
   "cell_type": "code",
   "execution_count": 4,
   "metadata": {},
   "outputs": [],
   "source": [
    "# Save data to an Excel sheet\n",
    "def save_to_excel(df):\n",
    "    file_name=\"Live_Crypto_Data.xlsx\"\n",
    "    try:\n",
    "        # Load existing file if it exists\n",
    "        book=load_workbook(file_name)\n",
    "        writer=pd.ExcelWriter(file_name, engine='openpyxl', mode='a', if_sheet_exists='replace')\n",
    "        writer.book = book\n",
    "    except FileNotFoundError:\n",
    "        writer=pd.ExcelWriter(file_name, engine='openpyxl')\n",
    "    df.to_excel(writer, index=False, sheet_name=\"Live Data\")\n",
    "    writer.close()\n",
    "    print(\"✅ Excel file updated!\")"
   ]
  },
  {
   "cell_type": "code",
   "execution_count": 5,
   "metadata": {},
   "outputs": [],
   "source": [
    "# Continuous updating every 5 minutes\n",
    "def live_update(interval=300):\n",
    "    while True:\n",
    "        data=fetch_crypto_data()\n",
    "        if data:\n",
    "            df=analyze_data(data)\n",
    "            save_to_excel(df)\n",
    "        print(f\"⏳ Waiting {interval // 60} minutes before the next update...\\n\")\n",
    "        time.sleep(interval)"
   ]
  },
  {
   "cell_type": "code",
   "execution_count": null,
   "metadata": {},
   "outputs": [
    {
     "name": "stdout",
     "output_type": "stream",
     "text": [
      "\n",
      "🔹 **Analysis Report** 🔹\n",
      "Top 5 Cryptos by Market Cap:\n",
      "       name     market_cap\n",
      "0   Bitcoin  1946533142159\n",
      "1  Ethereum   326624880703\n",
      "2       XRP   144396995115\n",
      "3    Tether   141901224912\n",
      "4    Solana    99869251932\n",
      "\n",
      "Average Price of Top 50: $4258.62\n",
      "\n",
      "🔺 Highest 24h Change: Cardano (15.50%)\n",
      "🔻 Lowest 24h Change: MANTRA (-2.87%)\n",
      "✅ Excel file updated!\n",
      "⏳ Waiting 5 minutes before the next update...\n",
      "\n"
     ]
    }
   ],
   "source": [
    "# Run live update every 5 minutes\n",
    "live_update()"
   ]
  }
 ],
 "metadata": {
  "kernelspec": {
   "display_name": "Python 3",
   "language": "python",
   "name": "python3"
  },
  "language_info": {
   "codemirror_mode": {
    "name": "ipython",
    "version": 3
   },
   "file_extension": ".py",
   "mimetype": "text/x-python",
   "name": "python",
   "nbconvert_exporter": "python",
   "pygments_lexer": "ipython3",
   "version": "3.12.4"
  }
 },
 "nbformat": 4,
 "nbformat_minor": 2
}
